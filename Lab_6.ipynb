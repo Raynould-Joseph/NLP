{
  "nbformat": 4,
  "nbformat_minor": 0,
  "metadata": {
    "colab": {
      "name": "Lab 6",
      "provenance": [],
      "authorship_tag": "ABX9TyNG47enlDz/1n0bSV+htl6Q",
      "include_colab_link": true
    },
    "kernelspec": {
      "name": "python3",
      "display_name": "Python 3"
    },
    "language_info": {
      "name": "python"
    }
  },
  "cells": [
    {
      "cell_type": "markdown",
      "metadata": {
        "id": "view-in-github",
        "colab_type": "text"
      },
      "source": [
        "<a href=\"https://colab.research.google.com/github/Raynould-Joseph/NLP/blob/main/Lab_6.ipynb\" target=\"_parent\"><img src=\"https://colab.research.google.com/assets/colab-badge.svg\" alt=\"Open In Colab\"/></a>"
      ]
    },
    {
      "cell_type": "code",
      "execution_count": null,
      "metadata": {
        "colab": {
          "base_uri": "https://localhost:8080/"
        },
        "id": "9uMgAqVdMOxA",
        "outputId": "98ec6b6e-94c3-442a-dc28-1876eb33eaa7"
      },
      "outputs": [
        {
          "output_type": "stream",
          "name": "stdout",
          "text": [
            "Connects ---> connect\n",
            "Connecting ---> connect\n",
            "Connections ---> connect\n",
            "Connected ---> connect\n",
            "Connection ---> connect\n",
            "Connectings ---> connect\n",
            "Connect ---> connect\n"
          ]
        }
      ],
      "source": [
        "from nltk.stem import PorterStemmer\n",
        "porter = PorterStemmer()\n",
        "words = ['Connects','Connecting','Connections','Connected','Connection','Connectings','Connect']\n",
        "for word in words:\n",
        "    print(word,\"--->\",porter.stem(word))"
      ]
    },
    {
      "cell_type": "code",
      "source": [
        "from nltk.stem import SnowballStemmer\n",
        "snowball = SnowballStemmer(language='english')\n",
        "words = ['generous','generate','generously','generation']\n",
        "for word in words:\n",
        "    print(word,\"--->\",snowball.stem(word))\n"
      ],
      "metadata": {
        "colab": {
          "base_uri": "https://localhost:8080/"
        },
        "id": "SefDKJ4nMhf4",
        "outputId": "027f49c4-96fe-4aab-8b0c-38e7cb0e4912"
      },
      "execution_count": null,
      "outputs": [
        {
          "output_type": "stream",
          "name": "stdout",
          "text": [
            "generous ---> generous\n",
            "generate ---> generat\n",
            "generously ---> generous\n",
            "generation ---> generat\n"
          ]
        }
      ]
    },
    {
      "cell_type": "code",
      "source": [
        "from nltk.stem import LancasterStemmer\n",
        "lancaster = LancasterStemmer()\n",
        "words = ['eating','eats','eaten','puts','putting']\n",
        "for word in words:\n",
        "    print(word,\"--->\",lancaster.stem(word))"
      ],
      "metadata": {
        "colab": {
          "base_uri": "https://localhost:8080/"
        },
        "id": "90j2lipMMlI9",
        "outputId": "f8e4b2e5-549c-4c9e-e511-e8111a1ef642"
      },
      "execution_count": null,
      "outputs": [
        {
          "output_type": "stream",
          "name": "stdout",
          "text": [
            "eating ---> eat\n",
            "eats ---> eat\n",
            "eaten ---> eat\n",
            "puts ---> put\n",
            "putting ---> put\n"
          ]
        }
      ]
    },
    {
      "cell_type": "markdown",
      "source": [
        "# Porter Stemmer – PorterStemmer()"
      ],
      "metadata": {
        "id": "iIqnCqDD283f"
      }
    },
    {
      "cell_type": "markdown",
      "source": [
        "#WORD: CONNECT"
      ],
      "metadata": {
        "id": "bo1apt9X3gOw"
      }
    },
    {
      "cell_type": "code",
      "source": [
        "from nltk.stem import PorterStemmer\n",
        "porter = PorterStemmer()\n",
        "words = ['Connects','Connecting','Connections','Connected','Connection','Connectings','Connect']\n",
        "for word in words:\n",
        "    print(word,\"--->\",porter.stem(word))\n"
      ],
      "metadata": {
        "id": "McmH7aHs2-Uu",
        "outputId": "e18b1d4c-bf0d-4243-9fd3-b15d055b6b17",
        "colab": {
          "base_uri": "https://localhost:8080/"
        }
      },
      "execution_count": 1,
      "outputs": [
        {
          "output_type": "stream",
          "name": "stdout",
          "text": [
            "Connects ---> connect\n",
            "Connecting ---> connect\n",
            "Connections ---> connect\n",
            "Connected ---> connect\n",
            "Connection ---> connect\n",
            "Connectings ---> connect\n",
            "Connect ---> connect\n"
          ]
        }
      ]
    },
    {
      "cell_type": "markdown",
      "source": [
        ""
      ],
      "metadata": {
        "id": "tz_Yih0O3cOp"
      }
    },
    {
      "cell_type": "markdown",
      "source": [
        "#WORD:BUY"
      ],
      "metadata": {
        "id": "WfAD38Ui3lEK"
      }
    },
    {
      "cell_type": "code",
      "source": [
        "from nltk.stem import PorterStemmer\n",
        "porter = PorterStemmer()\n",
        "words = ['Buys','BuyinG']\n",
        "for word in words:\n",
        "    print(word,\"--->\",porter.stem(word))\n"
      ],
      "metadata": {
        "id": "r6aYN21y3MJK",
        "outputId": "8f754867-b3b6-4b6a-efa1-99ca836e6f8e",
        "colab": {
          "base_uri": "https://localhost:8080/"
        }
      },
      "execution_count": 2,
      "outputs": [
        {
          "output_type": "stream",
          "name": "stdout",
          "text": [
            "Buys ---> buy\n",
            "BuyinG ---> buy\n"
          ]
        }
      ]
    },
    {
      "cell_type": "markdown",
      "source": [
        "# Snowball Stemmer – SnowballStemmer()\n",
        "faster and more logical than the original Porter Stemmer.\n"
      ],
      "metadata": {
        "id": "QGll9V7Y3vfS"
      }
    },
    {
      "cell_type": "code",
      "source": [
        "from nltk.stem import SnowballStemmer\n",
        "snowball = SnowballStemmer(language='english')\n",
        "words = ['generous','generate','generously','generation']\n",
        "for word in words:\n",
        "    print(word,\"--->\",snowball.stem(word))"
      ],
      "metadata": {
        "id": "AiLeoKmg36Pm",
        "outputId": "fee2c5c4-be1d-4dba-b6da-7a78c8ad1a0f",
        "colab": {
          "base_uri": "https://localhost:8080/"
        }
      },
      "execution_count": 3,
      "outputs": [
        {
          "output_type": "stream",
          "name": "stdout",
          "text": [
            "generous ---> generous\n",
            "generate ---> generat\n",
            "generously ---> generous\n",
            "generation ---> generat\n"
          ]
        }
      ]
    },
    {
      "cell_type": "markdown",
      "source": [
        "# Lancaster Stemmer – LancasterStemmer()\n",
        "Lancaster Stemmer is straightforward, although it often produces results with excessive stemming. Over-stemming renders stems non-linguistic or meaningless.\n",
        "\n",
        "\n"
      ],
      "metadata": {
        "id": "pxVZ8Xm13-UZ"
      }
    },
    {
      "cell_type": "code",
      "source": [
        "from nltk.stem import LancasterStemmer\n",
        "lancaster = LancasterStemmer()\n",
        "words = ['eating','eats','eaten','puts','putting']\n",
        "for word in words:\n",
        "    print(word,\"--->\",lancaster.stem(word))"
      ],
      "metadata": {
        "id": "Bzi8wG0s4F1X",
        "outputId": "4d3bc9cf-8d4b-4ddd-d796-f7cd3135ea49",
        "colab": {
          "base_uri": "https://localhost:8080/"
        }
      },
      "execution_count": 4,
      "outputs": [
        {
          "output_type": "stream",
          "name": "stdout",
          "text": [
            "eating ---> eat\n",
            "eats ---> eat\n",
            "eaten ---> eat\n",
            "puts ---> put\n",
            "putting ---> put\n"
          ]
        }
      ]
    },
    {
      "cell_type": "markdown",
      "source": [
        "# Regexp Stemmer – RegexpStemmer()\n",
        "Regex stemmer identifies morphological affixes using regular expressions. Substrings matching the regular expressions will be discarded.\n"
      ],
      "metadata": {
        "id": "kly85dsx4JCo"
      }
    },
    {
      "cell_type": "code",
      "source": [
        "from nltk.stem import RegexpStemmer\n",
        "regexp = RegexpStemmer('ing$|s$|e$|able$', min=4)\n",
        "words = ['mass','was','bee','computer','advisable']\n",
        "for word in words:\n",
        "  print(word,\"--->\",regexp.stem(word))"
      ],
      "metadata": {
        "id": "k8evQ3TY4ROH",
        "outputId": "592f9bb8-2e29-4ce7-a9ed-5fea3229e6eb",
        "colab": {
          "base_uri": "https://localhost:8080/"
        }
      },
      "execution_count": 6,
      "outputs": [
        {
          "output_type": "stream",
          "name": "stdout",
          "text": [
            "mass ---> mas\n",
            "was ---> was\n",
            "bee ---> bee\n",
            "computer ---> computer\n",
            "advisable ---> advis\n"
          ]
        }
      ]
    },
    {
      "cell_type": "markdown",
      "source": [
        "#Comparinghe stemers\n",
        "Porter vs Snowball vs Lancaster vs Regex\n"
      ],
      "metadata": {
        "id": "kXv631I34cAQ"
      }
    },
    {
      "cell_type": "code",
      "source": [
        "from nltk.stem import PorterStemmer, SnowballStemmer, LancasterStemmer, RegexpStemmer\n",
        "porter = PorterStemmer()\n",
        "lancaster = LancasterStemmer()\n",
        "snowball = SnowballStemmer(language='english')\n",
        "regexp = RegexpStemmer('ing$|s$|e$|able$', min=4)\n",
        "word_list = [\"friend\", \"friendship\", \"friends\", \"friendships\"]\n",
        "print(\"{0:20}{1:20}{2:20}{3:30}{4:40}\".format(\"Word\",\"Porter Stemmer\",\"Snowball Stemmer\",\"Lancaster Stemmer\",'Regexp Stemmer'))\n",
        "for word in word_list:\n",
        "    print(\"{0:20}{1:20}{2:20}{3:30}{4:40}\".format(word,porter.stem(word),snowball.stem(word),lancaster.stem(word),regexp.stem(word)))"
      ],
      "metadata": {
        "id": "O1NrFMqm4ZVg",
        "outputId": "361a648a-f013-4b4d-fc1c-3346c4f808c1",
        "colab": {
          "base_uri": "https://localhost:8080/"
        }
      },
      "execution_count": 7,
      "outputs": [
        {
          "output_type": "stream",
          "name": "stdout",
          "text": [
            "Word                Porter Stemmer      Snowball Stemmer    Lancaster Stemmer             Regexp Stemmer                          \n",
            "friend              friend              friend              friend                        friend                                  \n",
            "friendship          friendship          friendship          friend                        friendship                              \n",
            "friends             friend              friend              friend                        friend                                  \n",
            "friendships         friendship          friendship          friend                        friendship                              \n"
          ]
        }
      ]
    },
    {
      "cell_type": "markdown",
      "source": [
        "Using Text file for stemming"
      ],
      "metadata": {
        "id": "HG9Mplg6445k"
      }
    }
  ]
}