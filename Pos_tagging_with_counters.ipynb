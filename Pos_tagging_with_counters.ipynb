{
  "nbformat": 4,
  "nbformat_minor": 0,
  "metadata": {
    "colab": {
      "provenance": [],
      "collapsed_sections": [],
      "authorship_tag": "ABX9TyOfI4hNzbd+ucT8yQx6ATop",
      "include_colab_link": true
    },
    "kernelspec": {
      "name": "python3",
      "display_name": "Python 3"
    },
    "language_info": {
      "name": "python"
    }
  },
  "cells": [
    {
      "cell_type": "markdown",
      "metadata": {
        "id": "view-in-github",
        "colab_type": "text"
      },
      "source": [
        "<a href=\"https://colab.research.google.com/github/Raynould-Joseph/NLP/blob/main/Pos_tagging_with_counters.ipynb\" target=\"_parent\"><img src=\"https://colab.research.google.com/assets/colab-badge.svg\" alt=\"Open In Colab\"/></a>"
      ]
    },
    {
      "cell_type": "markdown",
      "source": [
        "#1. VBD VERB in PAST TENSE= ate"
      ],
      "metadata": {
        "id": "Y1ZIYzz1Jls8"
      }
    },
    {
      "cell_type": "code",
      "execution_count": 11,
      "metadata": {
        "colab": {
          "base_uri": "https://localhost:8080/"
        },
        "id": "ukPqnzwjGU6I",
        "outputId": "aefc2040-05c2-41ab-89ae-d1838125b979"
      },
      "outputs": [
        {
          "output_type": "stream",
          "name": "stdout",
          "text": [
            "Counter({'PRP': 1, 'VBD': 1, 'NN': 1})\n"
          ]
        },
        {
          "output_type": "stream",
          "name": "stderr",
          "text": [
            "[nltk_data] Downloading package punkt to /root/nltk_data...\n",
            "[nltk_data]   Package punkt is already up-to-date!\n",
            "[nltk_data] Downloading package averaged_perceptron_tagger to\n",
            "[nltk_data]     /root/nltk_data...\n",
            "[nltk_data]   Package averaged_perceptron_tagger is already up-to-\n",
            "[nltk_data]       date!\n"
          ]
        }
      ],
      "source": [
        "import nltk\n",
        "nltk.download('punkt')\n",
        "nltk.download('averaged_perceptron_tagger')\n",
        "from collections import Counter\n",
        "import nltk\n",
        "#calling the sentence\n",
        "text = \"He ate food\"\n",
        "#gerealising it to lower case\n",
        "lower_case = text.lower()\n",
        "tokens = nltk.word_tokenize(lower_case)\n",
        "#tagging the word\n",
        "tags = nltk.pos_tag(tokens)\n",
        "#counting the tags\n",
        "counts = Counter( tag for word,  tag in tags)\n",
        "#printing the counts\n",
        "print(counts)"
      ]
    },
    {
      "cell_type": "markdown",
      "source": [
        "#2. VBN VERB in PAST PARTICIPLE=expected"
      ],
      "metadata": {
        "id": "NGA06GKhJ0Xs"
      }
    },
    {
      "cell_type": "code",
      "source": [
        "from collections import Counter \n",
        "#calling the sentence\n",
        "text = \"He was Expected to Go Out\"\n",
        "lower_case = text.lower()\n",
        "#gerealising it to lower case\n",
        "tokens = nltk.word_tokenize(lower_case)\n",
        "#tagging the word\n",
        "tags = nltk.pos_tag(tokens)\n",
        "counts = Counter( tag for word,  tag in tags)\n",
        "#printing the counts\n",
        "print(counts)"
      ],
      "metadata": {
        "colab": {
          "base_uri": "https://localhost:8080/"
        },
        "id": "mr7pKzkyJ_P8",
        "outputId": "1ea828c5-50a4-4c78-b2f4-02b8d3b4d456"
      },
      "execution_count": 39,
      "outputs": [
        {
          "output_type": "stream",
          "name": "stdout",
          "text": [
            "Counter({'PRP': 1, 'VBD': 1, 'VBN': 1, 'TO': 1, 'VB': 1, 'RP': 1})\n"
          ]
        }
      ]
    },
    {
      "cell_type": "markdown",
      "source": [
        "#3. VBP Verb, non-3rd person singular present=do"
      ],
      "metadata": {
        "id": "8shk98c2KrnM"
      }
    },
    {
      "cell_type": "code",
      "source": [
        "from collections import Counter\n",
        "import \n",
        "#calling the sentence\n",
        "text = \"They do the Job well\"\n",
        "#gerealising it to lower case\n",
        "lower_case = text.lower()\n",
        "tokens = nltk.word_tokenize(lower_case)\n",
        "#tagging the word\n",
        "tags = nltk.pos_tag(tokens)\n",
        "counts = Counter( tag for word,  tag in tags)\n",
        "#printing the counts\n",
        "print(counts)"
      ],
      "metadata": {
        "colab": {
          "base_uri": "https://localhost:8080/"
        },
        "id": "v49YmXFJLDiE",
        "outputId": "f9d5f24d-9e71-47d4-f5fa-4f9d3d5021d5"
      },
      "execution_count": 16,
      "outputs": [
        {
          "output_type": "stream",
          "name": "stdout",
          "text": [
            "Counter({'PRP': 1, 'VBP': 1, 'DT': 1, 'NN': 1, 'RB': 1})\n"
          ]
        }
      ]
    },
    {
      "cell_type": "markdown",
      "source": [
        "#4. VBZ Verb, 3rd person singular present-=likes"
      ],
      "metadata": {
        "id": "IMXVG9YMLVRs"
      }
    },
    {
      "cell_type": "code",
      "source": [
        "from collections import Counter\n",
        "#calling the sentence\n",
        "text = \"He likes Ice Cream\"\n",
        "#gerealising it to lower case\n",
        "lower_case = text.lower()\n",
        "tokens = nltk.word_tokenize(lower_case)\n",
        "#tagging the word\n",
        "tags = nltk.pos_tag(tokens)\n",
        "counts = Counter( tag for word,  tag in tags)\n",
        "#printing the counts\n",
        "print(counts)"
      ],
      "metadata": {
        "colab": {
          "base_uri": "https://localhost:8080/"
        },
        "id": "BPqFqH3ELlLc",
        "outputId": "840a1875-051a-4bd4-edb6-78d2d4dddef6"
      },
      "execution_count": 17,
      "outputs": [
        {
          "output_type": "stream",
          "name": "stdout",
          "text": [
            "Counter({'NN': 2, 'PRP': 1, 'VBZ': 1})\n"
          ]
        }
      ]
    },
    {
      "cell_type": "markdown",
      "source": [
        "# 5. WDT Wh-determiner=that what whatever which whichever "
      ],
      "metadata": {
        "id": "Yu_h1U2rL_jV"
      }
    },
    {
      "cell_type": "code",
      "source": [
        "from collections import Counter\n",
        "#calling the sentence\n",
        "text = \" which is this place?  \"\n",
        "#gerealising it to lower case\n",
        "lower_case = text.lower()\n",
        "tokens = nltk.word_tokenize(lower_case)\n",
        "#tagging the word\n",
        "tags = nltk.pos_tag(tokens)\n",
        "counts = Counter( tag for word,  tag in tags)\n",
        "#printing the counts\n",
        "print(counts)"
      ],
      "metadata": {
        "colab": {
          "base_uri": "https://localhost:8080/"
        },
        "id": "C4eCNXqJMDem",
        "outputId": "474d7e97-0272-4729-f3c4-fc8d994a0788"
      },
      "execution_count": 26,
      "outputs": [
        {
          "output_type": "stream",
          "name": "stdout",
          "text": [
            "Counter({'WDT': 1, 'VBZ': 1, 'DT': 1, 'NN': 1, '.': 1})\n"
          ]
        }
      ]
    },
    {
      "cell_type": "markdown",
      "source": [
        "# 6.WP wh-pronoun=that what whatever which who whom"
      ],
      "metadata": {
        "id": "dbIgGyurNFTj"
      }
    },
    {
      "cell_type": "code",
      "source": [
        "from collections import Counter\n",
        "#calling the sentence\n",
        "text = \"  who is standing there  \"\n",
        "#gerealising it to lower case\n",
        "lower_case = text.lower()\n",
        "tokens = nltk.word_tokenize(lower_case)\n",
        "#tagging the word\n",
        "tags = nltk.pos_tag(tokens)\n",
        "counts = Counter( tag for word,  tag in tags)\n",
        "#printing the counts\n",
        "print(counts)"
      ],
      "metadata": {
        "colab": {
          "base_uri": "https://localhost:8080/"
        },
        "id": "wwHY1LHnNcvq",
        "outputId": "470e8cca-6816-43f7-fc99-04d4429feb6f"
      },
      "execution_count": 27,
      "outputs": [
        {
          "output_type": "stream",
          "name": "stdout",
          "text": [
            "Counter({'WP': 1, 'VBZ': 1, 'VBG': 1, 'RB': 1})\n"
          ]
        }
      ]
    },
    {
      "cell_type": "markdown",
      "source": [
        "# 7.WP$ possessive wh-pronoun, eg- whose \n"
      ],
      "metadata": {
        "id": "52e7oR8ANjlT"
      }
    },
    {
      "cell_type": "code",
      "source": [
        "from collections import Counter\n",
        "#calling the sentence\n",
        "text = \"  whose is standing there \"\n",
        "#gerealising it to lower case\n",
        "lower_case = text.lower()\n",
        "tokens = nltk.word_tokenize(lower_case)\n",
        "#tagging the word\n",
        "tags = nltk.pos_tag(tokens)\n",
        "counts = Counter( tag for word,  tag in tags)\n",
        "#printing the counts\n",
        "print(counts)"
      ],
      "metadata": {
        "colab": {
          "base_uri": "https://localhost:8080/"
        },
        "id": "nXFqMxKUN-8i",
        "outputId": "5cfe65bd-c2cd-43e2-dff2-15654116920d"
      },
      "execution_count": 28,
      "outputs": [
        {
          "output_type": "stream",
          "name": "stdout",
          "text": [
            "Counter({'WP$': 1, 'VBZ': 1, 'VBG': 1, 'RB': 1})\n"
          ]
        }
      ]
    },
    {
      "cell_type": "markdown",
      "source": [
        "# 8.WRB wh-adverb, eg- where, when"
      ],
      "metadata": {
        "id": "MMB9mkNlOISK"
      }
    },
    {
      "cell_type": "code",
      "source": [
        "from collections import Counter\n",
        "#calling the sentence\n",
        "text = \"  when was the death \"\n",
        "lower_case = text.lower()\n",
        "#gerealising it to lower case\n",
        "tokens = nltk.word_tokenize(lower_case)\n",
        "#tagging the word\n",
        "tags = nltk.pos_tag(tokens)\n",
        "counts = Counter( tag for word,  tag in tags)\n",
        "#printing the counts\n",
        "print(counts)"
      ],
      "metadata": {
        "colab": {
          "base_uri": "https://localhost:8080/"
        },
        "id": "XrxWMrvfOXDB",
        "outputId": "eb0817be-8ba2-4eed-b36f-e2f78bf5db3d"
      },
      "execution_count": 29,
      "outputs": [
        {
          "output_type": "stream",
          "name": "stdout",
          "text": [
            "Counter({'WRB': 1, 'VBD': 1, 'DT': 1, 'NN': 1})\n"
          ]
        }
      ]
    },
    {
      "cell_type": "markdown",
      "source": [
        "# 9.CC coordinating conjunction = and"
      ],
      "metadata": {
        "id": "qMaxJ1jTOdcy"
      }
    },
    {
      "cell_type": "code",
      "source": [
        "from collections import Counter\n",
        "#calling the sentence\n",
        "text = \"And now for something always And completely different\"\n",
        "#gerealising it to lower case\n",
        "lower_case = text.lower()\n",
        "tokens = nltk.word_tokenize(lower_case)\n",
        "#tagging the word\n",
        "tags = nltk.pos_tag(tokens)\n",
        "counts = Counter( tag for word,  tag in tags)\n",
        "#printing the counts\n",
        "print(counts)"
      ],
      "metadata": {
        "colab": {
          "base_uri": "https://localhost:8080/"
        },
        "id": "2Q0wRoQcO3ua",
        "outputId": "66f63007-9ec5-45e7-b06c-91b4f93244ac"
      },
      "execution_count": 31,
      "outputs": [
        {
          "output_type": "stream",
          "name": "stdout",
          "text": [
            "Counter({'RB': 3, 'CC': 2, 'IN': 1, 'NN': 1, 'JJ': 1})\n"
          ]
        }
      ]
    },
    {
      "cell_type": "markdown",
      "source": [
        "# 10. CD cardinal digit = one, two"
      ],
      "metadata": {
        "id": "dbrGAAVVPJMq"
      }
    },
    {
      "cell_type": "code",
      "source": [
        "from collections import Counter\n",
        "#calling the sentence\n",
        "text = \"Marriage is a big step in one’s life.\"\n",
        "#gerealising it to lower case\n",
        "lower_case = text.lower()\n",
        "tokens = nltk.word_tokenize(lower_case)\n",
        "#tagging the word\n",
        "tags = nltk.pos_tag(tokens)\n",
        "counts = Counter( tag for word,  tag in tags)\n",
        "#printing the counts\n",
        "print(counts)"
      ],
      "metadata": {
        "colab": {
          "base_uri": "https://localhost:8080/"
        },
        "id": "MXUEvMbvPjwY",
        "outputId": "8f5297e1-f646-4adb-8c7d-92cab3038e72"
      },
      "execution_count": 36,
      "outputs": [
        {
          "output_type": "stream",
          "name": "stdout",
          "text": [
            "Counter({'NN': 4, 'JJ': 2, 'VBZ': 1, 'DT': 1, 'IN': 1, 'CD': 1, '.': 1})\n"
          ]
        }
      ]
    },
    {
      "cell_type": "markdown",
      "source": [
        "# 11.DT determiner= the, each, a"
      ],
      "metadata": {
        "id": "z25JAguGQA2C"
      }
    },
    {
      "cell_type": "code",
      "source": [
        "from collections import Counter\n",
        "#calling the sentence\n",
        "text = \"The tag Mahal\"\n",
        "#gerealising it to lower case\n",
        "lower_case = text.lower()\n",
        "tokens = nltk.word_tokenize(lower_case)\n",
        "#tagging the word\n",
        "tags = nltk.pos_tag(tokens)\n",
        "counts = Counter( tag for word,  tag in tags)\n",
        "#printing the counts\n",
        "print(counts)"
      ],
      "metadata": {
        "colab": {
          "base_uri": "https://localhost:8080/"
        },
        "id": "1Z9oVMXEQnID",
        "outputId": "09012ecd-8e38-453b-af9f-37c8eb9a589d"
      },
      "execution_count": 37,
      "outputs": [
        {
          "output_type": "stream",
          "name": "stdout",
          "text": [
            "Counter({'NN': 2, 'DT': 1})\n"
          ]
        }
      ]
    }
  ]
}