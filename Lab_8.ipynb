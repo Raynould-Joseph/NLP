{
  "nbformat": 4,
  "nbformat_minor": 0,
  "metadata": {
    "colab": {
      "name": "Lab 8",
      "provenance": [],
      "authorship_tag": "ABX9TyOBw610SnFqiSr1fyQapcsG",
      "include_colab_link": true
    },
    "kernelspec": {
      "name": "python3",
      "display_name": "Python 3"
    },
    "language_info": {
      "name": "python"
    }
  },
  "cells": [
    {
      "cell_type": "markdown",
      "metadata": {
        "id": "view-in-github",
        "colab_type": "text"
      },
      "source": [
        "<a href=\"https://colab.research.google.com/github/Raynould-Joseph/NLP/blob/main/Lab_8.ipynb\" target=\"_parent\"><img src=\"https://colab.research.google.com/assets/colab-badge.svg\" alt=\"Open In Colab\"/></a>"
      ]
    },
    {
      "cell_type": "code",
      "source": [],
      "metadata": {
        "id": "kes8JrIkcUSr"
      },
      "execution_count": 11,
      "outputs": []
    },
    {
      "cell_type": "markdown",
      "source": [
        "Sample Text:\n",
        "I have three visions for India. In 3000 years of our history, people from all over the world have come and invaded us, captured our lands, conquered our minds. From Alexander onwards, the Greeks, the Turks, the Moguls, the Portuguese, the British, the French, the Dutch, all of them came and looted us, took over what was ours. Yet we have not done this to any other nation. We have not conquered anyone. We have not grabbed their land, their culture, their history and tried to enforce our way of life on them.\n"
      ],
      "metadata": {
        "id": "Jth_GLM_jtC5"
      }
    },
    {
      "cell_type": "code",
      "execution_count": 14,
      "metadata": {
        "id": "tM963g2BUkQ1",
        "colab": {
          "base_uri": "https://localhost:8080/"
        },
        "outputId": "27cdc59d-ceaa-47cb-ce92-d449c0d58923"
      },
      "outputs": [
        {
          "output_type": "stream",
          "name": "stderr",
          "text": [
            "[nltk_data] Downloading package punkt to /root/nltk_data...\n",
            "[nltk_data]   Package punkt is already up-to-date!\n",
            "[nltk_data] Downloading package wordnet to /root/nltk_data...\n",
            "[nltk_data]   Package wordnet is already up-to-date!\n",
            "[nltk_data] Downloading package omw-1.4 to /root/nltk_data...\n",
            "[nltk_data]   Package omw-1.4 is already up-to-date!\n"
          ]
        },
        {
          "output_type": "stream",
          "name": "stdout",
          "text": [
            "Enter a sentence: I have three visions for India. In 3000 years of our history, people from all over the world have come and invaded us, captured our lands, conquered our minds. From Alexander onwards, the Greeks, the Turks, the Moguls, the Portuguese, the British, the French, the Dutch, all of them came and looted us, took over what was ours. Yet we have not done this to any other nation. We have not conquered anyone. We have not grabbed their land, their culture, their history and tried to enforce our way of life on them.\n",
            "\n",
            "\n",
            "word sentance is: I have three visions for India. In 3000 years of our history, people from all over the world have come and invaded us, captured our lands, conquered our minds. From Alexander onwards, the Greeks, the Turks, the Moguls, the Portuguese, the British, the French, the Dutch, all of them came and looted us, took over what was ours. Yet we have not done this to any other nation. We have not conquered anyone. We have not grabbed their land, their culture, their history and tried to enforce our way of life on them.\n",
            "\n",
            "\n",
            "['I', 'have', 'three', 'visions', 'for', 'India', '.', 'In', '3000', 'years', 'of', 'our', 'history', ',', 'people', 'from', 'all', 'over', 'the', 'world', 'have', 'come', 'and', 'invaded', 'us', ',', 'captured', 'our', 'lands', ',', 'conquered', 'our', 'minds', '.', 'From', 'Alexander', 'onwards', ',', 'the', 'Greeks', ',', 'the', 'Turks', ',', 'the', 'Moguls', ',', 'the', 'Portuguese', ',', 'the', 'British', ',', 'the', 'French', ',', 'the', 'Dutch', ',', 'all', 'of', 'them', 'came', 'and', 'looted', 'us', ',', 'took', 'over', 'what', 'was', 'ours', '.', 'Yet', 'we', 'have', 'not', 'done', 'this', 'to', 'any', 'other', 'nation', '.', 'We', 'have', 'not', 'conquered', 'anyone', '.', 'We', 'have', 'not', 'grabbed', 'their', 'land', ',', 'their', 'culture', ',', 'their', 'history', 'and', 'tried', 'to', 'enforce', 'our', 'way', 'of', 'life', 'on', 'them', '.']\n",
            "\n",
            "\n",
            "I have three vision for India . In 3000 year of our history , people from all over the world have come and invaded u , captured our land , conquered our mind . From Alexander onwards , the Greeks , the Turks , the Moguls , the Portuguese , the British , the French , the Dutch , all of them came and looted u , took over what wa ours . Yet we have not done this to any other nation . We have not conquered anyone . We have not grabbed their land , their culture , their history and tried to enforce our way of life on them .\n",
            "\n",
            "\n",
            "stemmed_output\n",
            "I ---> i\n",
            "have ---> have\n",
            "three ---> three\n",
            "visions ---> vision\n",
            "for ---> for\n",
            "India ---> india\n",
            ". ---> .\n",
            "In ---> in\n",
            "3000 ---> 3000\n",
            "years ---> year\n",
            "of ---> of\n",
            "our ---> our\n",
            "history ---> histori\n",
            ", ---> ,\n",
            "people ---> peopl\n",
            "from ---> from\n",
            "all ---> all\n",
            "over ---> over\n",
            "the ---> the\n",
            "world ---> world\n",
            "have ---> have\n",
            "come ---> come\n",
            "and ---> and\n",
            "invaded ---> invad\n",
            "us ---> us\n",
            ", ---> ,\n",
            "captured ---> captur\n",
            "our ---> our\n",
            "lands ---> land\n",
            ", ---> ,\n",
            "conquered ---> conquer\n",
            "our ---> our\n",
            "minds ---> mind\n",
            ". ---> .\n",
            "From ---> from\n",
            "Alexander ---> alexand\n",
            "onwards ---> onward\n",
            ", ---> ,\n",
            "the ---> the\n",
            "Greeks ---> greek\n",
            ", ---> ,\n",
            "the ---> the\n",
            "Turks ---> turk\n",
            ", ---> ,\n",
            "the ---> the\n",
            "Moguls ---> mogul\n",
            ", ---> ,\n",
            "the ---> the\n",
            "Portuguese ---> portugues\n",
            ", ---> ,\n",
            "the ---> the\n",
            "British ---> british\n",
            ", ---> ,\n",
            "the ---> the\n",
            "French ---> french\n",
            ", ---> ,\n",
            "the ---> the\n",
            "Dutch ---> dutch\n",
            ", ---> ,\n",
            "all ---> all\n",
            "of ---> of\n",
            "them ---> them\n",
            "came ---> came\n",
            "and ---> and\n",
            "looted ---> loot\n",
            "us ---> us\n",
            ", ---> ,\n",
            "took ---> took\n",
            "over ---> over\n",
            "what ---> what\n",
            "was ---> wa\n",
            "ours ---> our\n",
            ". ---> .\n",
            "Yet ---> yet\n",
            "we ---> we\n",
            "have ---> have\n",
            "not ---> not\n",
            "done ---> done\n",
            "this ---> thi\n",
            "to ---> to\n",
            "any ---> ani\n",
            "other ---> other\n",
            "nation ---> nation\n",
            ". ---> .\n",
            "We ---> we\n",
            "have ---> have\n",
            "not ---> not\n",
            "conquered ---> conquer\n",
            "anyone ---> anyon\n",
            ". ---> .\n",
            "We ---> we\n",
            "have ---> have\n",
            "not ---> not\n",
            "grabbed ---> grab\n",
            "their ---> their\n",
            "land ---> land\n",
            ", ---> ,\n",
            "their ---> their\n",
            "culture ---> cultur\n",
            ", ---> ,\n",
            "their ---> their\n",
            "history ---> histori\n",
            "and ---> and\n",
            "tried ---> tri\n",
            "to ---> to\n",
            "enforce ---> enforc\n",
            "our ---> our\n",
            "way ---> way\n",
            "of ---> of\n",
            "life ---> life\n",
            "on ---> on\n",
            "them ---> them\n",
            ". ---> .\n"
          ]
        }
      ],
      "source": [
        "import nltk\n",
        "nltk.download('punkt')\n",
        "#importing the wordnet\n",
        "nltk.download('wordnet')\n",
        "nltk.download('omw-1.4')\n",
        "#importing the word net lematizer for lementzing\n",
        "from nltk.stem import WordNetLemmatizer\n",
        "#importing the porter stemmer for the stemming\n",
        "from nltk.stem import PorterStemmer\n",
        "\n",
        "#assigning variables for the stemmers\n",
        "lemmatizer = WordNetLemmatizer()\n",
        "porter = PorterStemmer()\n",
        "\n",
        "#inputing the sentence from the user\n",
        "sentence = input(\"Enter a sentence: \")\n",
        "print(\"\\n\")\n",
        "print(\"word sentance is:\",sentence)\n",
        "print(\"\\n\")\n",
        "\n",
        "# Tokenize: Split the sentence into words\n",
        "word_list = nltk.word_tokenize(sentence)\n",
        "print(word_list)\n",
        "print(\"\\n\")\n",
        "\n",
        "#code for the lemmatizing \n",
        "# Lemmatize list of words and join\n",
        "lemmatized_output = ' '.join([lemmatizer.lemmatize(w) for w in word_list])\n",
        "print(lemmatized_output)\n",
        "print(\"\\n\")\n",
        "\n",
        "#code for the stemming\n",
        "print(\"stemmed_output\")\n",
        "for word in word_list:\n",
        "    print(word,\"--->\",porter.stem(word))\n",
        "#> The striped bat are hanging on their foot for best"
      ]
    },
    {
      "cell_type": "code",
      "source": [
        "porter = PorterStemmer()\n",
        "sentence = \"The striped bats are hanging on their feet for best\"\n",
        "word_list = nltk.word_tokenize(sentence)\n",
        "\n",
        "for word in word_list:\n",
        "    print(word,\"--->\",porter.stem(word))"
      ],
      "metadata": {
        "colab": {
          "base_uri": "https://localhost:8080/"
        },
        "id": "uhpbziRjc0lj",
        "outputId": "baeac700-96fb-4b6a-d68c-abe1b3ae2418"
      },
      "execution_count": 13,
      "outputs": [
        {
          "output_type": "stream",
          "name": "stdout",
          "text": [
            "The ---> the\n",
            "striped ---> stripe\n",
            "bats ---> bat\n",
            "are ---> are\n",
            "hanging ---> hang\n",
            "on ---> on\n",
            "their ---> their\n",
            "feet ---> feet\n",
            "for ---> for\n",
            "best ---> best\n"
          ]
        }
      ]
    }
  ]
}