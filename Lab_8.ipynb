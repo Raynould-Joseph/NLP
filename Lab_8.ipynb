{
  "nbformat": 4,
  "nbformat_minor": 0,
  "metadata": {
    "colab": {
      "name": "Lab 8",
      "provenance": [],
      "authorship_tag": "ABX9TyNrH7ZM0s6+WU+XeCsAh8d0",
      "include_colab_link": true
    },
    "kernelspec": {
      "name": "python3",
      "display_name": "Python 3"
    },
    "language_info": {
      "name": "python"
    }
  },
  "cells": [
    {
      "cell_type": "markdown",
      "metadata": {
        "id": "view-in-github",
        "colab_type": "text"
      },
      "source": [
        "<a href=\"https://colab.research.google.com/github/Raynould-Joseph/NLP/blob/main/Lab_8.ipynb\" target=\"_parent\"><img src=\"https://colab.research.google.com/assets/colab-badge.svg\" alt=\"Open In Colab\"/></a>"
      ]
    },
    {
      "cell_type": "code",
      "source": [],
      "metadata": {
        "id": "kes8JrIkcUSr"
      },
      "execution_count": null,
      "outputs": []
    },
    {
      "cell_type": "code",
      "execution_count": 10,
      "metadata": {
        "id": "tM963g2BUkQ1",
        "outputId": "971adb5f-33ee-46d4-e05c-80c76c19ca7e",
        "colab": {
          "base_uri": "https://localhost:8080/"
        }
      },
      "outputs": [
        {
          "output_type": "stream",
          "name": "stderr",
          "text": [
            "[nltk_data] Downloading package punkt to /root/nltk_data...\n",
            "[nltk_data]   Package punkt is already up-to-date!\n",
            "[nltk_data] Downloading package wordnet to /root/nltk_data...\n",
            "[nltk_data]   Package wordnet is already up-to-date!\n",
            "[nltk_data] Downloading package omw-1.4 to /root/nltk_data...\n",
            "[nltk_data]   Package omw-1.4 is already up-to-date!\n"
          ]
        },
        {
          "output_type": "stream",
          "name": "stdout",
          "text": [
            "Enter a sentence: The striped bat are hanging on their foot for best\n",
            "\n",
            "\n",
            "word sentance is: The striped bat are hanging on their foot for best\n",
            "\n",
            "\n",
            "['The', 'striped', 'bat', 'are', 'hanging', 'on', 'their', 'foot', 'for', 'best']\n",
            "\n",
            "\n",
            "The striped bat are hanging on their foot for best\n",
            "\n",
            "\n",
            "stemmed_output\n",
            "The ---> the\n",
            "striped ---> stripe\n",
            "bat ---> bat\n",
            "are ---> are\n",
            "hanging ---> hang\n",
            "on ---> on\n",
            "their ---> their\n",
            "foot ---> foot\n",
            "for ---> for\n",
            "best ---> best\n"
          ]
        }
      ],
      "source": [
        "import nltk\n",
        "nltk.download('punkt')\n",
        "#importing the wordnet\n",
        "nltk.download('wordnet')\n",
        "nltk.download('omw-1.4')\n",
        "#importing the word net lematizer for lementzing\n",
        "from nltk.stem import WordNetLemmatizer\n",
        "#importing the porter stemmer for the stemming\n",
        "from nltk.stem import PorterStemmer\n",
        "\n",
        "#assigning variables for the stemmers\n",
        "lemmatizer = WordNetLemmatizer()\n",
        "porter = PorterStemmer()\n",
        "\n",
        "#inputing the sentence from the user\n",
        "sentence = input(\"Enter a sentence: \")\n",
        "print(\"\\n\")\n",
        "print(\"word sentance is:\",sentence)\n",
        "print(\"\\n\")\n",
        "\n",
        "# Tokenize: Split the sentence into words\n",
        "word_list = nltk.word_tokenize(sentence)\n",
        "print(word_list)\n",
        "print(\"\\n\")\n",
        "\n",
        "#code for the lemmatizing \n",
        "# Lemmatize list of words and join\n",
        "lemmatized_output = ' '.join([lemmatizer.lemmatize(w) for w in word_list])\n",
        "print(lemmatized_output)\n",
        "print(\"\\n\")\n",
        "\n",
        "#code for the stemming\n",
        "print(\"stemmed_output\")\n",
        "for word in word_list:\n",
        "    print(word,\"--->\",porter.stem(word))\n",
        "#> The striped bat are hanging on their foot for best"
      ]
    },
    {
      "cell_type": "code",
      "source": [
        "porter = PorterStemmer()\n",
        "sentence = \"The striped bats are hanging on their feet for best\"\n",
        "word_list = nltk.word_tokenize(sentence)\n",
        "\n",
        "for word in word_list:\n",
        "    print(word,\"--->\",porter.stem(word))"
      ],
      "metadata": {
        "id": "uhpbziRjc0lj",
        "outputId": "df2f8396-b050-4d82-8285-170f05af5d8d",
        "colab": {
          "base_uri": "https://localhost:8080/"
        }
      },
      "execution_count": 7,
      "outputs": [
        {
          "output_type": "stream",
          "name": "stdout",
          "text": [
            "The ---> the\n",
            "striped ---> stripe\n",
            "bats ---> bat\n",
            "are ---> are\n",
            "hanging ---> hang\n",
            "on ---> on\n",
            "their ---> their\n",
            "feet ---> feet\n",
            "for ---> for\n",
            "best ---> best\n"
          ]
        }
      ]
    }
  ]
}